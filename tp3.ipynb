{
 "cells": [
  {
   "cell_type": "markdown",
   "id": "498731c6",
   "metadata": {},
   "source": [
    "# Trabajo Practico n3 - Trabajando con Lists y Sets.\n",
    "## Criterios de evaluación.\n",
    "\n",
    "* Se deben utilizar nombres de variables descriptivos y claros (Utilizar la nomeclatura correspondiente para los nombres de variables).\n",
    "* Comentarios claros y concisos que expliquen el propósito de cada sección del código.\n",
    "* Utilizar mensajes de commit **descriptivos**. (Puedes utilizar la extension CONVENTIONAL COMMIT de VS-CODE). \n",
    "* Entrega en tiempo y forma.\n",
    "* Todo el código desarrollado debe ser subido a un repositorio en GitHub (el nombre del repositorio de seguir la siguiente estructura: tp3_tlp3_nombre_apellido).\n",
    "* Para resolver las actividades se debe insertar casillas de codigo entre cada actividad del cuaderno de Jupyter\n",
    "* El repositorio de GitHub debe incluir un archivo README.md con las instrucciones necesarias para la correcta ejecución del código.\n",
    "\n",
    "### ¡Importante!\n",
    "**El incumplimiento de los criterios de evaluación restará puntos en la nota final del práctico!**"
   ]
  },
  {
   "cell_type": "markdown",
   "id": "b361a7b6",
   "metadata": {},
   "source": [
    "### Actividad 1: \n",
    "Suma de todos los elementos de una lista, utilizando bucles repetitivos (for, while)."
   ]
  },
  {
   "cell_type": "code",
   "execution_count": null,
   "id": "26009294",
   "metadata": {},
   "outputs": [
    {
     "name": "stdout",
     "output_type": "stream",
     "text": [
      "Suma con for: 204\n",
      "Suma con while: 204\n"
     ]
    }
   ],
   "source": [
    "\n",
    "# todo:\n",
    "\n",
    "numbers = [14, 23, 34, 48, 85]\n",
    "\n",
    "# Se suma utilizando un bucle for\n",
    "suma_for = 0\n",
    "for num in numbers:\n",
    "    suma_for += num  # ← usamos num, que es cada elemento de la lista\n",
    "print(\"Suma con for:\", suma_for)\n",
    "\n",
    "# Se suma utilizando un bucle while\n",
    "suma_while = 0\n",
    "indice = 0\n",
    "while indice < len(numbers):\n",
    "    suma_while += numbers[indice]\n",
    "    indice += 1\n",
    "print(\"Suma con while:\", suma_while)\n"
   ]
  },
  {
   "cell_type": "markdown",
   "id": "0c239195",
   "metadata": {},
   "source": [
    "### Actividad 2: \n",
    "Encontrar el número más grande en una lista, utilizando bucles repetitivos (for, while)."
   ]
  },
  {
   "cell_type": "code",
   "execution_count": 4,
   "id": "3611d25a",
   "metadata": {},
   "outputs": [
    {
     "name": "stdout",
     "output_type": "stream",
     "text": [
      "Mayor con for: 72\n",
      "Mayor con while: 72\n"
     ]
    }
   ],
   "source": [
    "\n",
    "# todo:\n",
    "\n",
    "from random import randint\n",
    "random_numbers =[randint(1, 100) for i in range(5)]\n",
    "\n",
    "# Encontrar el número más grande con bucle for\n",
    "max_for = random_numbers[0]  # Suponemos que el primero es el mayor al principio\n",
    "for num in random_numbers:\n",
    "    if num > max_for:\n",
    "        max_for = num\n",
    "print(\"Mayor con for:\", max_for)\n",
    "\n",
    "# Encontrar el número más grande con bucle while\n",
    "indice = 1\n",
    "max_while = random_numbers[0]  # Igual que antes, comenzamos con el primero\n",
    "while indice < len(random_numbers):\n",
    "    if random_numbers[indice] > max_while:\n",
    "        max_while = random_numbers[indice]\n",
    "    indice += 1\n",
    "print(\"Mayor con while:\", max_while)"
   ]
  },
  {
   "cell_type": "markdown",
   "id": "70a24b97",
   "metadata": {},
   "source": [
    "### Actividad 3:\n",
    "Contar cuántas veces aparece un número específico. Utiliza estructuras repetitivas para la resolucion de este ejercicio. "
   ]
  },
  {
   "cell_type": "code",
   "execution_count": 22,
   "id": "a9c8ebc7",
   "metadata": {},
   "outputs": [
    {
     "name": "stdout",
     "output_type": "stream",
     "text": [
      "Lista generada: [68, 13, 8, 194, 44, 185, 35, 2, 133, 101, 154, 133, 156, 175, 27, 162, 178, 170, 127, 157]\n",
      "Número a buscar: 133\n",
      " El número 133 aparece 2 veces en la lista.\n",
      " El número 133 aparece 2 veces en la lista.\n"
     ]
    }
   ],
   "source": [
    "\n",
    "# todo:\n",
    "from random import randint, choice \n",
    "\n",
    "lists = [randint(1, 200) for i in range(20)]\n",
    "print(\"Lista generada:\", lists)\n",
    "\n",
    "# Elegir un número aleatorio de la lista para buscar\n",
    "numero_buscado = choice(lists)\n",
    "print(f\"Número a buscar: {numero_buscado}\")\n",
    "\n",
    "# Contador con bucle for\n",
    "contador_for = 0\n",
    "for numero in lists:\n",
    "    if numero == numero_buscado:\n",
    "        contador_for += 1\n",
    "print(f\" El número {numero_buscado} aparece {contador_for} veces en la lista.\")\n",
    "\n",
    "# Contador con bucle while\n",
    "contador_while = 0\n",
    "indice = 0\n",
    "while indice < len(lists):\n",
    "    if lists[indice] == numero_buscado:\n",
    "        contador_while += 1\n",
    "    indice += 1\n",
    "print(f\" El número {numero_buscado} aparece {contador_while} veces en la lista.\")\n"
   ]
  },
  {
   "cell_type": "markdown",
   "id": "b8dac397",
   "metadata": {},
   "source": [
    "### Actividad 4: \n",
    "Invertir una lista sin usar reverse() ni [::-1]"
   ]
  },
  {
   "cell_type": "code",
   "execution_count": 23,
   "id": "d04fd492",
   "metadata": {},
   "outputs": [
    {
     "name": "stdout",
     "output_type": "stream",
     "text": [
      "Lista original: [29, 40, 12, 22, 19, 38, 22, 12]\n",
      "Lista invertida: [12, 22, 38, 19, 22, 12, 40, 29]\n",
      "Lista invertida: [12, 22, 38, 19, 22, 12, 40, 29]\n"
     ]
    }
   ],
   "source": [
    "\n",
    "# todo:\n",
    "\n",
    "lists_two = [randint(1, 50) for i in range(8)]\n",
    "print(\"Lista original:\", lists_two)\n",
    "\n",
    "# Se invierte la lista utilizando un bucle for\n",
    "lista_invertida = []\n",
    "for i in range(len(lists_two) - 1, -1, -1):\n",
    "    lista_invertida.append(lists_two[i])\n",
    "print(\"Lista invertida:\", lista_invertida)\n",
    "\n",
    "# Se invierte la lista utilizando un bucle while\n",
    "lista_invertida_while = []\n",
    "indice = len(lists_two) - 1\n",
    "while indice >= 0:\n",
    "    lista_invertida_while.append(lists_two[indice])\n",
    "    indice -= 1\n",
    "print(\"Lista invertida:\", lista_invertida_while)"
   ]
  },
  {
   "cell_type": "markdown",
   "id": "8889d0f2",
   "metadata": {},
   "source": [
    "### Actividad 5:\n",
    "Sumar los elementos de dos listas posición por posición, utilizando solo bucles repetititivos (for,while)."
   ]
  },
  {
   "cell_type": "code",
   "execution_count": null,
   "id": "bc0ec844",
   "metadata": {},
   "outputs": [
    {
     "name": "stdout",
     "output_type": "stream",
     "text": [
      "Suma con for: [3, 7, 11, 16, 18]\n",
      "Suma con while: [3, 7, 11, 16, 18]\n"
     ]
    }
   ],
   "source": [
    "\n",
    "# todo:\n",
    "\n",
    "lists_one = [ 2,4,6,7,8 ]\n",
    "lists_two = [ 1,3,5,9,10 ]\n",
    "\n",
    "# Se suma posición por posición con bucle for\n",
    "suma_for = []\n",
    "for i in range(len(lists_one)):\n",
    "    suma = lists_one[i] + lists_two[i]\n",
    "    suma_for.append(suma)\n",
    "print(\"Suma con for:\", suma_for)\n",
    "\n",
    "# Se suma posición por posición con bucle while\n",
    "suma_while = []\n",
    "indice = 0\n",
    "while indice < len(lists_one):\n",
    "    suma = lists_one[indice] + lists_two[indice]\n",
    "    suma_while.append(suma)\n",
    "    indice += 1\n",
    "print(\"Suma con while:\", suma_while)"
   ]
  },
  {
   "cell_type": "markdown",
   "id": "8ce33e6b",
   "metadata": {},
   "source": [
    "### Actividad 6:\n",
    "\n",
    "Escribir un programa que almacene el abecedario en una lista, elimine de la lista las letras que ocupen posiciones múltiplos de 3, y muestre por pantalla la lista resultante."
   ]
  },
  {
   "cell_type": "code",
   "execution_count": null,
   "id": "b07326e2",
   "metadata": {},
   "outputs": [
    {
     "name": "stdout",
     "output_type": "stream",
     "text": [
      "Abecedario sin posiciones múltiplos de 3: ['a', 'b', 'd', 'e', 'g', 'h', 'j', 'k', 'm', 'n', 'p', 'q', 's', 't', 'v', 'w', 'y', 'z']\n"
     ]
    }
   ],
   "source": [
    "\n",
    "# todo:\n",
    "\n",
    "# Se crea una lista con abecedario\n",
    "abecedario = list(\"abcdefghijklmnopqrstuvwxyz\")\n",
    "\n",
    "# Se elimina letras en posiciones múltiplos de 3\n",
    "abecedario_filtrado = []\n",
    "\n",
    "for i in range(len(abecedario)):\n",
    "    if (i + 1) % 3 != 0:\n",
    "        abecedario_filtrado.append(abecedario[i])\n",
    "\n",
    "print(\"Abecedario sin posiciones múltiplos de 3:\", abecedario_filtrado)\n"
   ]
  },
  {
   "cell_type": "markdown",
   "id": "5bfeb4b5",
   "metadata": {},
   "source": [
    "### Actividad 7:\n",
    "\n",
    "Escribir un programa que pida al usuario una palabra y muestre por pantalla si es un palíndromo (una palabra que se escribe de la misma forma al derecho y al reves)."
   ]
  },
  {
   "cell_type": "code",
   "execution_count": null,
   "id": "2365afcc",
   "metadata": {},
   "outputs": [
    {
     "name": "stdout",
     "output_type": "stream",
     "text": [
      "No es un palíndromo.\n"
     ]
    }
   ],
   "source": [
    "\n",
    "# todo:\n",
    "\n",
    "# Se pide la palabra al usuario\n",
    "palabra = input(\"Ingrese una palabra: \")\n",
    "\n",
    "# Comprobar si es palíndromo\n",
    "es_palindromo = True\n",
    "for i in range(len(palabra) // 2):\n",
    "    if palabra[i] != palabra[-(i + 1)]:\n",
    "        es_palindromo = False\n",
    "        break\n",
    "\n",
    "if es_palindromo:\n",
    "    print(\"Es un palíndromo.\")\n",
    "else:\n",
    "    print(\"No es un palíndromo.\")\n"
   ]
  },
  {
   "cell_type": "markdown",
   "id": "ed8b51be",
   "metadata": {},
   "source": [
    "### Actividad 8:\n",
    "\n",
    "Teniendo en cuenta el conjunto 1 y el conjunto 2, sin usar el operador de intersección &, calcular la intersección de dichos conjuntos."
   ]
  },
  {
   "cell_type": "code",
   "execution_count": 13,
   "id": "21a434b9",
   "metadata": {},
   "outputs": [
    {
     "name": "stdout",
     "output_type": "stream",
     "text": [
      "Intersección: {3, 4}\n"
     ]
    }
   ],
   "source": [
    "conjunto1 = {1, 2, 3, 4}\n",
    "conjunto2 = {3, 4, 5, 6}\n",
    "# todo:\n",
    "interseccion = set()\n",
    "\n",
    "# Se verifica elementos comunes\n",
    "for elemento in conjunto1:\n",
    "    if elemento in conjunto2:\n",
    "        interseccion.add(elemento)\n",
    "\n",
    "print(\"Intersección:\", interseccion)"
   ]
  },
  {
   "cell_type": "markdown",
   "id": "31b460dc",
   "metadata": {},
   "source": [
    "### Actividad 9:\n",
    "Eliminar duplicados de una lista usando un set."
   ]
  },
  {
   "cell_type": "code",
   "execution_count": null,
   "id": "0ef62008",
   "metadata": {},
   "outputs": [
    {
     "name": "stdout",
     "output_type": "stream",
     "text": [
      "Lista original: [1, 2, 2, 3, 4, 4, 5]\n",
      "Lista sin duplicados: [1, 2, 3, 4, 5]\n"
     ]
    }
   ],
   "source": [
    "\n",
    "# todo:\n",
    "lista = [1, 2, 2, 3, 4, 4, 5]\n",
    "print(\"Lista original:\", lista)\n",
    "\n",
    "# Eliminamos duplicados \n",
    "lista_sin_duplicados = list(set(lista))\n",
    "\n",
    "print(\"Lista sin duplicados:\", lista_sin_duplicados)\n"
   ]
  },
  {
   "cell_type": "markdown",
   "id": "075f1f2c",
   "metadata": {},
   "source": [
    "### Actividad 10:\n",
    "\n",
    "Escribir un programa que cree 2 matrices y realice su multiplicacion."
   ]
  },
  {
   "cell_type": "code",
   "execution_count": 18,
   "id": "4c1fd0e1",
   "metadata": {},
   "outputs": [
    {
     "name": "stdout",
     "output_type": "stream",
     "text": [
      "Resultado de la multiplicación de matrices:\n",
      "[42, 34]\n",
      "[103, 86]\n"
     ]
    }
   ],
   "source": [
    "\n",
    "# todo:\n",
    "matriz1 = [[3, 2], [5, 7]]\n",
    "matriz2 = [[8, 6], [9, 8]]\n",
    "resultado = [[0, 0], [0, 0]]\n",
    "\n",
    "# Multiplicación de matrices\n",
    "for i in range(2):\n",
    "    for j in range(2):\n",
    "        for k in range(2):\n",
    "            resultado[i][j] += matriz1[i][k] * matriz2[k][j]\n",
    "\n",
    "print(\"Resultado de la multiplicación de matrices:\")\n",
    "for fila in resultado:\n",
    "    print(fila)"
   ]
  }
 ],
 "metadata": {
  "kernelspec": {
   "display_name": "Python 3",
   "language": "python",
   "name": "python3"
  },
  "language_info": {
   "codemirror_mode": {
    "name": "ipython",
    "version": 3
   },
   "file_extension": ".py",
   "mimetype": "text/x-python",
   "name": "python",
   "nbconvert_exporter": "python",
   "pygments_lexer": "ipython3",
   "version": "3.13.2"
  }
 },
 "nbformat": 4,
 "nbformat_minor": 5
}
